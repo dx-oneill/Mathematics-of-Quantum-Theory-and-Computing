{
  "metadata": {
    "kernelspec": {
      "name": "xpython",
      "display_name": "Python 3.13 (XPython)",
      "language": "python"
    },
    "language_info": {
      "file_extension": ".py",
      "mimetype": "text/x-python",
      "name": "python",
      "version": "3.13.1"
    }
  },
  "nbformat_minor": 5,
  "nbformat": 4,
  "cells": [
    {
      "id": "f556ae8c-a8a3-4d2e-a667-bcb04c6ec796",
      "cell_type": "code",
      "source": "# Grover’s Algorithm Demonstration wi",
      "metadata": {
        "trusted": true
      },
      "outputs": [
        {
          "ename": "<class 'SyntaxError'>",
          "evalue": "invalid character '’' (U+2019) (4257784678.py, line 1)",
          "traceback": [
            "  \u001b[36mCell\u001b[39m\u001b[36m \u001b[39m\u001b[32mIn[7]\u001b[39m\u001b[32m, line 1\u001b[39m\n\u001b[31m    \u001b[39m\u001b[31mGrover’s Algorithm Demonstration\u001b[39m\n          ^\n\u001b[31mSyntaxError\u001b[39m\u001b[31m:\u001b[39m invalid character '’' (U+2019)\n"
          ],
          "output_type": "error"
        }
      ],
      "execution_count": 7
    },
    {
      "id": "e8f995c9-03c8-4e09-8bd4-3bdd0f3c5287",
      "cell_type": "code",
      "source": "import qiskit\nfrom qiskit import QuantumCircuit\nfrom qiskit_aer import AerSimulator\nfrom qiskit.visualization import plot_histogram\nimport matplotlib.pyplot as plt \nfrom IPython.display import display, clear_output\nclear_output(wait=True)\n%matplotlib inline\n#Creates circuit with all qubits initialized to the state |0>\nbell_circuit = QuantumCircuit(2, 2)\n\n# Create superposition and entanglement\nbell_circuit.h(0)  # Apply Hadamard to qubit 0\nbell_circuit.cx(0, 1)  # Entangle with qubit 1 by using CNOT\n\n# Add measurement\nbell_circuit.measure([0, 1], [0, 1])\nprint(\"Circuit diagram\")\ndisplay(bell_circuit.draw('mpl', style='bw'))\n\n# Simulate the measurement\nresult = simulator.run(bell_circuit, shots=1000).result()\ncounts = result.get_counts()\n\n# Display results\nprint(\"\\nMeasurement results\")\ndisplay(plot_histogram(counts, title=\"Measurement results\", bar_labels=True))\nplt.close('all')",
      "metadata": {
        "trusted": true
      },
      "outputs": [],
      "execution_count": null
    },
    {
      "id": "f25e84b3-1ef1-403d-932e-07fc3bcbaef5",
      "cell_type": "code",
      "source": "",
      "metadata": {
        "trusted": true
      },
      "outputs": [],
      "execution_count": null
    },
    {
      "id": "5ed093c6-73c4-47ac-bce5-9264fd417aae",
      "cell_type": "code",
      "source": "from qiskit import transpile\nimport numpy as np\n\ntarget = '101'\niterations = 2  #The optimal number of iterations is pi/4 * sqrt(2^3) which is \n                 #approximately 2\n\n#Creates circuit with all qubits initialized to the state |0>\ngrover = QuantumCircuit(3, 3)\n\n#Puts all qubits into equal superpositions\ngrover.h([0, 1, 2])\n\n#Iterative steps\nfor _ in range(iterations):\n    #The oracle operator for |101>\n    grover.x(1)  #We need to flip this qubit to convert |101> to |111> as \n                  #the CCZ gate phase just flips |111>\n    grover.h(2)\n    grover.ccx(0, 1, 2)  #phase flip\n    grover.h(2)\n    grover.x(1)\n    \n    #The diffusion operator\n    grover.h([0, 1, 2])\n    grover.x([0, 1, 2])\n    grover.h(2)\n    grover.ccx(0, 1, 2)\n    grover.h(2)\n    grover.x([0, 1, 2])\n    grover.h([0, 1, 2])\n\n#Measurement\ngrover.measure([0, 1, 2], [0, 1, 2])\nprint(\"\\nCircuit Diagram\")\ngrover.draw('mpl', style='bw', fold=12, cregbundle=False)\n\n#Simulate results\nresult = AerSimulator().run(grover, shots=1000).result()\ncounts = result.get_counts()\n\n\n#Output simulated measurement results\nall_states = [format(i, '03b') for i in range(2**3)]\ncomplete_counts = {state: counts.get(state, 0) for state in all_states}\nplot_histogram(complete_counts,\n               title=f\"Measurement results with target |{target}\\rangle\",\n               bar_labels=True)\nplt.tight_layout()\nplt.show()\n\nprint(f\"\\nProbability of success is {counts.get(target, 0)/1000:.1%}\")",
      "metadata": {
        "trusted": true
      },
      "outputs": [],
      "execution_count": null
    }
  ]
}